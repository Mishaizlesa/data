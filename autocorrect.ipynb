{
 "cells": [
  {
   "cell_type": "code",
   "execution_count": 3,
   "id": "d0430657",
   "metadata": {},
   "outputs": [
    {
     "name": "stdout",
     "output_type": "stream",
     "text": [
      "Populating the interactive namespace from numpy and matplotlib\n"
     ]
    }
   ],
   "source": [
    "%pylab inline\n",
    "import re\n",
    "import math\n",
    "from collections import Counter\n",
    "import requests"
   ]
  },
  {
   "cell_type": "code",
   "execution_count": 4,
   "id": "ef9e89ab",
   "metadata": {},
   "outputs": [],
   "source": [
    "TEXT = requests.get('https://norvig.com/big.txt').text"
   ]
  },
  {
   "cell_type": "code",
   "execution_count": 6,
   "id": "2fbdc8f2",
   "metadata": {},
   "outputs": [],
   "source": [
    "def tokens(text):\n",
    "    return re.findall(r'[a-z]+',text.lower())"
   ]
  },
  {
   "cell_type": "code",
   "execution_count": 7,
   "id": "4e231020",
   "metadata": {},
   "outputs": [
    {
     "data": {
      "text/plain": [
       "['ti', 'lox']"
      ]
     },
     "execution_count": 7,
     "metadata": {},
     "output_type": "execute_result"
    }
   ],
   "source": [
    "tokens('ti lox')"
   ]
  },
  {
   "cell_type": "code",
   "execution_count": 8,
   "id": "1df4af55",
   "metadata": {},
   "outputs": [],
   "source": [
    "WORDS=tokens(TEXT)"
   ]
  },
  {
   "cell_type": "code",
   "execution_count": 10,
   "id": "add4b941",
   "metadata": {},
   "outputs": [],
   "source": [
    "def sample(bag,n=10):\n",
    "    return \" \".join(random.choice(bag) for _ in range(n))"
   ]
  },
  {
   "cell_type": "code",
   "execution_count": 15,
   "id": "727c8230",
   "metadata": {},
   "outputs": [
    {
     "data": {
      "text/plain": [
       "'so of convention it began with curled of he were'"
      ]
     },
     "execution_count": 15,
     "metadata": {},
     "output_type": "execute_result"
    }
   ],
   "source": [
    "sample(WORDS)"
   ]
  },
  {
   "cell_type": "code",
   "execution_count": 17,
   "id": "4ddf3f93",
   "metadata": {},
   "outputs": [
    {
     "data": {
      "text/plain": [
       "Counter({'sasi': 1, 'lox': 1, 'dibil': 1})"
      ]
     },
     "execution_count": 17,
     "metadata": {},
     "output_type": "execute_result"
    }
   ],
   "source": [
    "Counter(tokens(\"sasi lox dibil!\"))"
   ]
  },
  {
   "cell_type": "code",
   "execution_count": 16,
   "id": "189dd2ef",
   "metadata": {},
   "outputs": [],
   "source": [
    "COUNTS=Counter(WORDS)"
   ]
  },
  {
   "cell_type": "code",
   "execution_count": 19,
   "id": "73011e3a",
   "metadata": {},
   "outputs": [
    {
     "name": "stdout",
     "output_type": "stream",
     "text": [
      "82 speech\n",
      "21155 a\n",
      "215 deep\n",
      "38313 and\n",
      "26 heroic\n",
      "6643 on\n",
      "5622 you\n",
      "1 itinerant\n",
      "40025 of\n",
      "40025 of\n"
     ]
    }
   ],
   "source": [
    "for w in tokens(sample(WORDS)):\n",
    "    print(COUNTS[w],w)"
   ]
  },
  {
   "cell_type": "code",
   "execution_count": 21,
   "id": "45d161b8",
   "metadata": {},
   "outputs": [
    {
     "data": {
      "text/plain": [
       "[<matplotlib.lines.Line2D at 0xacd47f0>]"
      ]
     },
     "execution_count": 21,
     "metadata": {},
     "output_type": "execute_result"
    },
    {
     "data": {
      "image/png": "[encoded data removed]",
      "text/plain": [
       "<Figure size 432x288 with 1 Axes>"
      ]
     },
     "metadata": {
      "needs_background": "light"
     },
     "output_type": "display_data"
    }
   ],
   "source": [
    "M=COUNTS['the']\n",
    "yscale('log');\n",
    "xscale('log');\n",
    "title(\"Частота от набилоее частого\")\n",
    "plot([c for (w,c) in COUNTS.most_common()])\n",
    "plot([M/i for i in range(1,len(COUNTS))])"
   ]
  },
  {
   "cell_type": "markdown",
   "id": "5dfb27e4",
   "metadata": {},
   "source": [
    "Проверка правописания"
   ]
  },
  {
   "cell_type": "code",
   "execution_count": 68,
   "id": "df13c4c7",
   "metadata": {},
   "outputs": [],
   "source": [
    "def correct(word):\n",
    "    candidates=(known(edits0(word)) or\n",
    "               known(edits1(word)) or\n",
    "               known(edits2(word)) or\n",
    "               [word])\n",
    "    return max(candidates, key=COUNTS.get)\n",
    "    "
   ]
  },
  {
   "cell_type": "code",
   "execution_count": 69,
   "id": "80db6a63",
   "metadata": {},
   "outputs": [],
   "source": [
    "def known(words):\n",
    "    return [w for w in words if w in COUNTS]"
   ]
  },
  {
   "cell_type": "code",
   "execution_count": 70,
   "id": "7aef9a17",
   "metadata": {},
   "outputs": [],
   "source": [
    "def edits0(word):\n",
    "    return {word}"
   ]
  },
  {
   "cell_type": "code",
   "execution_count": 71,
   "id": "d05cdcbe",
   "metadata": {},
   "outputs": [],
   "source": [
    "def edits2(word):\n",
    "    return {e2 for e1 in edits1(word) for e2 in edits1(e1)}"
   ]
  },
  {
   "cell_type": "code",
   "execution_count": 72,
   "id": "65428963",
   "metadata": {},
   "outputs": [],
   "source": [
    "def edits1(word):\n",
    "    \"Возвращает список всех строк на расстоянии edit_distance == 1 от word.\"\n",
    "    pairs      = splits(word)\n",
    "    deletes    = [a+b[1:]           for (a, b) in pairs if b]\n",
    "    transposes = [a+b[1]+b[0]+b[2:] for (a, b) in pairs if len(b) > 1]\n",
    "    replaces   = [a+c+b[1:]         for (a, b) in pairs for c in alphabet if b]\n",
    "    inserts    = [a+c+b             for (a, b) in pairs for c in alphabet]\n",
    "    return set(deletes + transposes + replaces + inserts)\n",
    "\n",
    "def splits(word):\n",
    "    \"Возвращает список всех возможных разбиений слова на пару (a, b).\"\n",
    "    return [(word[:i], word[i:]) for i in range(len(word)+1)]\n",
    "\n",
    "alphabet = 'abcdefghijklmnopqrstuvwxyz'\n",
    "    "
   ]
  },
  {
   "cell_type": "code",
   "execution_count": 74,
   "id": "34b23dd6",
   "metadata": {},
   "outputs": [
    {
     "data": {
      "text/plain": [
       "'see'"
      ]
     },
     "execution_count": 74,
     "metadata": {},
     "output_type": "execute_result"
    }
   ],
   "source": [
    "correct(\"see\")"
   ]
  },
  {
   "cell_type": "code",
   "execution_count": 77,
   "id": "a95e4f59",
   "metadata": {},
   "outputs": [
    {
     "data": {
      "text/plain": [
       "['girl', 'have', 'he', 'ache']"
      ]
     },
     "execution_count": 77,
     "metadata": {},
     "output_type": "execute_result"
    }
   ],
   "source": [
    "list(map(correct,tokens(\"gurl hase hed acha\")))"
   ]
  },
  {
   "cell_type": "code",
   "execution_count": 78,
   "id": "87f050d9",
   "metadata": {},
   "outputs": [],
   "source": [
    "def correct_text(text):\n",
    "    \"Исправить все слова с опечатками в тексте.\"\n",
    "    return re.sub('[a-zA-Z]+', correct_match, text)\n",
    "\n",
    "def correct_match(match):\n",
    "    \"Исправить слово word в match-группе, сохранив регистр: upper/lower/title.\"\n",
    "    word = match.group()\n",
    "    return case_of(word)(correct(word.lower()))\n",
    "\n",
    "def case_of(text):\n",
    "    \"Возвращает функцию регистра по тексту: upper, lower, title, или str.\"\n",
    "    return (str.upper if text.isupper() else\n",
    "            str.lower if text.islower() else\n",
    "            str.title if text.istitle() else\n",
    "            str)"
   ]
  },
  {
   "cell_type": "code",
   "execution_count": 79,
   "id": "3a11a117",
   "metadata": {},
   "outputs": [
    {
     "data": {
      "text/plain": [
       "'she iss sir'"
      ]
     },
     "execution_count": 79,
     "metadata": {},
     "output_type": "execute_result"
    }
   ],
   "source": [
    "correct_text(\"shee iss sik\")"
   ]
  },
  {
   "cell_type": "code",
   "execution_count": 83,
   "id": "f3ffd009",
   "metadata": {},
   "outputs": [],
   "source": [
    "def pdist(counter):\n",
    "    \"Превращает частоты из Counter в вероятностное распределение.\"\n",
    "    N = sum(list(counter.values()))\n",
    "    return lambda x: counter[x]/N*100\n",
    "\n",
    "P = pdist(COUNTS)"
   ]
  },
  {
   "cell_type": "code",
   "execution_count": 84,
   "id": "21149d55",
   "metadata": {},
   "outputs": [],
   "source": [
    "def Pwords(words):\n",
    "    \"Вероятности слов, при условии, что они независимы.\"\n",
    "    return product(P(w) for w in words)\n",
    "\n",
    "def product(nums):\n",
    "    \"Перемножим числа.  (Это как `sum`, только с умножением.)\"\n",
    "    result = 1\n",
    "    for x in nums:\n",
    "        result *= x\n",
    "    return result"
   ]
  },
  {
   "cell_type": "code",
   "execution_count": 90,
   "id": "d53c706b",
   "metadata": {},
   "outputs": [],
   "source": [
    "def memo(f):\n",
    "    \"Запомнить результаты исполнения функции f, чьи аргументы args должны быть хешируемыми.\"\n",
    "    cache = {}\n",
    "    def fmemo(*args):\n",
    "        if args not in cache:\n",
    "            cache[args] = f(*args)\n",
    "        return cache[args]\n",
    "    fmemo.cache = cache\n",
    "    return fmemo"
   ]
  },
  {
   "cell_type": "code",
   "execution_count": 91,
   "id": "b10ff5f3",
   "metadata": {},
   "outputs": [],
   "source": [
    "def splits(text, start=0, L=20):\n",
    "    \"Вернуть список всех пар (a, b); start <= len(a) <= L.\"\n",
    "    return [(text[:i], text[i:]) \n",
    "            for i in range(start, min(len(text), L)+1)]"
   ]
  },
  {
   "cell_type": "code",
   "execution_count": 92,
   "id": "5130101f",
   "metadata": {},
   "outputs": [],
   "source": [
    "@memo\n",
    "def segment(text):\n",
    "    \"Вернуть список слов, который является наиболее вероятной сегментацией нашего текста.\"\n",
    "    if not text: \n",
    "        return []\n",
    "    else:\n",
    "        candidates = ([first] + segment(rest) \n",
    "                      for (first, rest) in splits(text, 1))\n",
    "        return max(candidates, key=Pwords)"
   ]
  },
  {
   "cell_type": "code",
   "execution_count": 94,
   "id": "8796103b",
   "metadata": {},
   "outputs": [
    {
     "data": {
      "text/plain": [
       "['choose', 's', 'pain']"
      ]
     },
     "execution_count": 94,
     "metadata": {},
     "output_type": "execute_result"
    }
   ],
   "source": [
    "segment('choosespain')"
   ]
  },
  {
   "cell_type": "code",
   "execution_count": 95,
   "id": "d848f00b",
   "metadata": {},
   "outputs": [
    {
     "data": {
      "text/plain": [
       "['speed', 'of', 'art']"
      ]
     },
     "execution_count": 95,
     "metadata": {},
     "output_type": "execute_result"
    }
   ],
   "source": [
    "segment('speedofart')"
   ]
  },
  {
   "cell_type": "code",
   "execution_count": null,
   "id": "09e78c54",
   "metadata": {},
   "outputs": [],
   "source": []
  }
 ],
 "metadata": {
  "kernelspec": {
   "display_name": "Python 3 (ipykernel)",
   "language": "python",
   "name": "python3"
  },
  "language_info": {
   "codemirror_mode": {
    "name": "ipython",
    "version": 3
   },
   "file_extension": ".py",
   "mimetype": "text/x-python",
   "name": "python",
   "nbconvert_exporter": "python",
   "pygments_lexer": "ipython3",
   "version": "3.8.3"
  }
 },
 "nbformat": 4,
 "nbformat_minor": 5
}
