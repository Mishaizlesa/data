{
 "cells": [
  {
   "cell_type": "code",
   "execution_count": 3,
   "id": "b6c2d189",
   "metadata": {},
   "outputs": [],
   "source": [
    "import pandas as pd\n",
    "import numpy as np\n",
    "import matplotlib.pyplot as  plt\n",
    "from sklearn import tree\n",
    "from sklearn.metrics import precision_score, recall_score\n",
    "from sklearn.model_selection import GridSearchCV"
   ]
  },
  {
   "cell_type": "code",
   "execution_count": 4,
   "id": "4f296739",
   "metadata": {},
   "outputs": [],
   "source": [
    "data=pd.read_csv('https://stepik.org/media/attachments/course/4852/train_data_tree.csv')"
   ]
  },
  {
   "cell_type": "code",
   "execution_count": 5,
   "id": "aef4ef1d",
   "metadata": {},
   "outputs": [
    {
     "data": {
      "text/html": [
       "<div>\n",
       "<style scoped>\n",
       "    .dataframe tbody tr th:only-of-type {\n",
       "        vertical-align: middle;\n",
       "    }\n",
       "\n",
       "    .dataframe tbody tr th {\n",
       "        vertical-align: top;\n",
       "    }\n",
       "\n",
       "    .dataframe thead th {\n",
       "        text-align: right;\n",
       "    }\n",
       "</style>\n",
       "<table border=\"1\" class=\"dataframe\">\n",
       "  <thead>\n",
       "    <tr style=\"text-align: right;\">\n",
       "      <th></th>\n",
       "      <th>sex</th>\n",
       "      <th>exang</th>\n",
       "      <th>num</th>\n",
       "    </tr>\n",
       "  </thead>\n",
       "  <tbody>\n",
       "    <tr>\n",
       "      <th>0</th>\n",
       "      <td>1</td>\n",
       "      <td>1</td>\n",
       "      <td>1</td>\n",
       "    </tr>\n",
       "    <tr>\n",
       "      <th>1</th>\n",
       "      <td>1</td>\n",
       "      <td>1</td>\n",
       "      <td>1</td>\n",
       "    </tr>\n",
       "    <tr>\n",
       "      <th>2</th>\n",
       "      <td>1</td>\n",
       "      <td>0</td>\n",
       "      <td>1</td>\n",
       "    </tr>\n",
       "    <tr>\n",
       "      <th>3</th>\n",
       "      <td>1</td>\n",
       "      <td>0</td>\n",
       "      <td>0</td>\n",
       "    </tr>\n",
       "    <tr>\n",
       "      <th>4</th>\n",
       "      <td>1</td>\n",
       "      <td>0</td>\n",
       "      <td>1</td>\n",
       "    </tr>\n",
       "    <tr>\n",
       "      <th>...</th>\n",
       "      <td>...</td>\n",
       "      <td>...</td>\n",
       "      <td>...</td>\n",
       "    </tr>\n",
       "    <tr>\n",
       "      <th>233</th>\n",
       "      <td>1</td>\n",
       "      <td>0</td>\n",
       "      <td>0</td>\n",
       "    </tr>\n",
       "    <tr>\n",
       "      <th>234</th>\n",
       "      <td>1</td>\n",
       "      <td>1</td>\n",
       "      <td>0</td>\n",
       "    </tr>\n",
       "    <tr>\n",
       "      <th>235</th>\n",
       "      <td>1</td>\n",
       "      <td>0</td>\n",
       "      <td>1</td>\n",
       "    </tr>\n",
       "    <tr>\n",
       "      <th>236</th>\n",
       "      <td>1</td>\n",
       "      <td>1</td>\n",
       "      <td>1</td>\n",
       "    </tr>\n",
       "    <tr>\n",
       "      <th>237</th>\n",
       "      <td>1</td>\n",
       "      <td>0</td>\n",
       "      <td>0</td>\n",
       "    </tr>\n",
       "  </tbody>\n",
       "</table>\n",
       "<p>238 rows × 3 columns</p>\n",
       "</div>"
      ],
      "text/plain": [
       "     sex  exang  num\n",
       "0      1      1    1\n",
       "1      1      1    1\n",
       "2      1      0    1\n",
       "3      1      0    0\n",
       "4      1      0    1\n",
       "..   ...    ...  ...\n",
       "233    1      0    0\n",
       "234    1      1    0\n",
       "235    1      0    1\n",
       "236    1      1    1\n",
       "237    1      0    0\n",
       "\n",
       "[238 rows x 3 columns]"
      ]
     },
     "execution_count": 5,
     "metadata": {},
     "output_type": "execute_result"
    }
   ],
   "source": [
    "data"
   ]
  },
  {
   "cell_type": "code",
   "execution_count": 6,
   "id": "01df2df9",
   "metadata": {},
   "outputs": [],
   "source": [
    "X=data.drop('num',axis=1)"
   ]
  },
  {
   "cell_type": "code",
   "execution_count": 7,
   "id": "0ba24423",
   "metadata": {},
   "outputs": [],
   "source": [
    "y=data['num']"
   ]
  },
  {
   "cell_type": "code",
   "execution_count": 9,
   "id": "7b73014b",
   "metadata": {},
   "outputs": [],
   "source": [
    "clf=tree.DecisionTreeClassifier(criterion='entropy',max_depth=3)"
   ]
  },
  {
   "cell_type": "code",
   "execution_count": 10,
   "id": "ad07eb6a",
   "metadata": {},
   "outputs": [
    {
     "data": {
      "text/plain": [
       "[Text(167.4, 181.2, 'X[1] <= 0.5\\nentropy = 0.996\\nsamples = 238\\nvalue = [128, 110]'),\n",
       " Text(83.7, 108.72, 'X[0] <= 0.5\\nentropy = 0.903\\nsamples = 157\\nvalue = [107, 50]'),\n",
       " Text(41.85, 36.23999999999998, 'entropy = 0.612\\nsamples = 53\\nvalue = [45, 8]'),\n",
       " Text(125.55000000000001, 36.23999999999998, 'entropy = 0.973\\nsamples = 104\\nvalue = [62, 42]'),\n",
       " Text(251.10000000000002, 108.72, 'X[0] <= 0.5\\nentropy = 0.826\\nsamples = 81\\nvalue = [21, 60]'),\n",
       " Text(209.25, 36.23999999999998, 'entropy = 0.954\\nsamples = 16\\nvalue = [6, 10]'),\n",
       " Text(292.95, 36.23999999999998, 'entropy = 0.779\\nsamples = 65\\nvalue = [15, 50]')]"
      ]
     },
     "execution_count": 10,
     "metadata": {},
     "output_type": "execute_result"
    },
    {
     "data": {
      "image/png": "[encoded data removed]",
      "text/plain": [
       "<Figure size 432x288 with 1 Axes>"
      ]
     },
     "metadata": {
      "needs_background": "light"
     },
     "output_type": "display_data"
    }
   ],
   "source": [
    "tree.plot_tree(clf.fit(X,y))"
   ]
  },
  {
   "cell_type": "code",
   "execution_count": 12,
   "id": "d3ed623c",
   "metadata": {},
   "outputs": [
    {
     "data": {
      "text/plain": [
       "0.11920588235294122"
      ]
     },
     "execution_count": 12,
     "metadata": {},
     "output_type": "execute_result"
    }
   ],
   "source": [
    "0.996-(157/238*0.903)-(81/238*0.826)"
   ]
  },
  {
   "cell_type": "code",
   "execution_count": 13,
   "id": "9f932a1f",
   "metadata": {},
   "outputs": [],
   "source": [
    "from sklearn.model_selection import train_test_split"
   ]
  },
  {
   "cell_type": "code",
   "execution_count": null,
   "id": "47a6c165",
   "metadata": {},
   "outputs": [],
   "source": []
  }
 ],
 "metadata": {
  "kernelspec": {
   "display_name": "Python 3 (ipykernel)",
   "language": "python",
   "name": "python3"
  },
  "language_info": {
   "codemirror_mode": {
    "name": "ipython",
    "version": 3
   },
   "file_extension": ".py",
   "mimetype": "text/x-python",
   "name": "python",
   "nbconvert_exporter": "python",
   "pygments_lexer": "ipython3",
   "version": "3.8.3"
  }
 },
 "nbformat": 4,
 "nbformat_minor": 5
}
